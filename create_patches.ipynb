{
 "cells": [
  {
   "cell_type": "code",
   "execution_count": 1,
   "id": "d71bf328",
   "metadata": {},
   "outputs": [],
   "source": [
    "import rasterio\n",
    "import numpy as np\n",
    "import os\n",
    "import matplotlib.pyplot as plt\n",
    "from skimage.util import view_as_blocks\n",
    "import tifffile"
   ]
  },
  {
   "cell_type": "code",
   "execution_count": 2,
   "id": "202e586e",
   "metadata": {},
   "outputs": [],
   "source": [
    "img_folder = '/media/gpu1/geo/Floods_paper/Flood_events/Raster'\n",
    "save_folder = '/media/gpu1/geo/Floods_paper/Flood_events/Patches'\n",
    "patch_size = 128"
   ]
  },
  {
   "cell_type": "code",
   "execution_count": 3,
   "id": "d99bce20",
   "metadata": {},
   "outputs": [],
   "source": [
    "def open_raster(path):\n",
    "    '''\n",
    "    Open a raster file given it's path\n",
    "    Inputs: path(string) - full path of the image\n",
    "    Ouput: image(numpy array) - the image in numpy array format\n",
    "    '''\n",
    "    raster = rasterio.open(path)\n",
    "    band_ls = []\n",
    "  \n",
    "    #Open every band \n",
    "    b=1\n",
    "    while b<=raster.count:\n",
    "        band = raster.read(b)\n",
    "        band_ls.append(band)\n",
    "        b = b+1\n",
    "      \n",
    "    #Create numpy array\n",
    "    image = np.stack(band_ls)\n",
    "    raster.close()\n",
    "    return image\n",
    "\n",
    "def make_patches(img, patch_size):\n",
    "    '''Create patches of a raster file given a patch size.\n",
    "    Inputs: img(3D numpy array) - the image to be divided\n",
    "            patch_size(int) - the patch size\n",
    "    Ouputs: patches(4D numpy array) - the created patches with shape\n",
    "                                      (number of patches, bands, patch size, patch size)\n",
    "    '''\n",
    "    bands = img.shape[0]\n",
    "    patches = view_as_blocks(img, (bands, patch_size, patch_size))\n",
    "    patches = patches.reshape(-1, bands, patch_size, patch_size)\n",
    "    return patches"
   ]
  },
  {
   "cell_type": "code",
   "execution_count": 4,
   "id": "82c646c5",
   "metadata": {},
   "outputs": [
    {
     "name": "stdout",
     "output_type": "stream",
     "text": [
      "Creating patches...\n",
      "1/22:EMSR480_observed_event_01.tif\n",
      "2/22:EMSR480_observed_event_02.tif\n",
      "3/22:EMSR337_observed_event_01.tif\n",
      "4/22:EMSR293_observed_event_01.tif\n",
      "5/22:EMSR501_observed_event_00.tif\n",
      "6/22:EMSR273_observed_event_00.tif\n",
      "7/22:EMSR117_observed_event_00.tif\n",
      "8/22:EMSR413_observed_event_01.tif\n",
      "9/22:EMSR572_observed_event_00.tif\n",
      "10/22:EMSR413_observed_event_02.tif\n",
      "11/22:EMSR337_observed_event_02.tif\n",
      "12/22:EMSR271_observed_event_00.tif\n",
      "13/22:EMSR142_observed_event_00.tif\n",
      "14/22:EMSR293_observed_event_02.tif\n",
      "15/22:EMSR465_observed_event_00.tif\n",
      "16/22:EMSR187_observed_event_00.tif\n",
      "17/22:EMSR277_observed_event_00.tif\n",
      "18/22:EMSR275_observed_event_00.tif\n",
      "19/22:EMSR358_observed_event_00.tif\n",
      "20/22:EMSR258_observed_event_00.tif\n",
      "21/22:EMSR445_observed_event_00.tif\n",
      "22/22:EMSR292_observed_event_00.tif\n"
     ]
    }
   ],
   "source": [
    "i = 1\n",
    "print('Creating patches...')\n",
    "for img in os.listdir(img_folder):\n",
    "    if 'EMSR122' in img:\n",
    "        continue\n",
    "    print('{}/{}:{}'.format(i, (len(os.listdir(img_folder)) - 1), img))\n",
    "    img_path = os.path.join(img_folder, img)\n",
    "    img_np = open_raster(img_path)\n",
    "    patches = make_patches(img_np, patch_size)\n",
    "    num_patches = patches.shape[0]\n",
    "    i = i + 1\n",
    "    \n",
    "    for patch in range(num_patches):\n",
    "        name_base = img.split('.')[0]\n",
    "        save_name = name_base + '_patch{}.tif'.format(patch + 1)\n",
    "        save_path = os.path.join(save_folder, save_name)\n",
    "        tifffile.imsave(save_path, patches[patch])"
   ]
  },
  {
   "cell_type": "code",
   "execution_count": null,
   "id": "6ff0bf55",
   "metadata": {},
   "outputs": [],
   "source": []
  }
 ],
 "metadata": {
  "kernelspec": {
   "display_name": "Python 3 (ipykernel)",
   "language": "python",
   "name": "python3"
  },
  "language_info": {
   "codemirror_mode": {
    "name": "ipython",
    "version": 3
   },
   "file_extension": ".py",
   "mimetype": "text/x-python",
   "name": "python",
   "nbconvert_exporter": "python",
   "pygments_lexer": "ipython3",
   "version": "3.10.9"
  }
 },
 "nbformat": 4,
 "nbformat_minor": 5
}

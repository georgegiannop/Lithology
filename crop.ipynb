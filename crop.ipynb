{
 "cells": [
  {
   "cell_type": "markdown",
   "id": "d0b35442",
   "metadata": {},
   "source": [
    "<h1 align=\"center\"> Crop image </hi>"
   ]
  },
  {
   "cell_type": "markdown",
   "id": "0c70db2a",
   "metadata": {},
   "source": [
    "Crop a raster georeferenced image so that it can be divided in square patches of a given size. The ouput is also georeferenced."
   ]
  },
  {
   "cell_type": "markdown",
   "id": "0fdf7e43",
   "metadata": {},
   "source": [
    "## Imports"
   ]
  },
  {
   "cell_type": "code",
   "execution_count": 1,
   "id": "24e695e5",
   "metadata": {},
   "outputs": [],
   "source": [
    "import numpy as np\n",
    "import os\n",
    "import rasterio\n",
    "from rasterio.transform import from_gcps\n",
    "from rasterio.control import GroundControlPoint as GCP"
   ]
  },
  {
   "cell_type": "markdown",
   "id": "d76192a0",
   "metadata": {},
   "source": [
    "## Set paths"
   ]
  },
  {
   "cell_type": "code",
   "execution_count": 2,
   "id": "c0da1e54",
   "metadata": {},
   "outputs": [],
   "source": [
    "img_folder = '/lithology_paper/S1/Processed'\n",
    "save_folder = '/lithology_paper/S1/Cropped'"
   ]
  },
  {
   "cell_type": "markdown",
   "id": "9c76c708",
   "metadata": {},
   "source": [
    "## Utilities"
   ]
  },
  {
   "cell_type": "code",
   "execution_count": 3,
   "id": "a8548b44",
   "metadata": {},
   "outputs": [],
   "source": [
    "def pixcoords_subset(img, patch_size):\n",
    "    '''\n",
    "    Get the pixel coordinates of subset of an image, so that the subset is divisible with a given patch size.\n",
    "    Inputs: img(rasterio dataset object) - the raster image\n",
    "            patch_size(int) - the number that should divide the image perfectly\n",
    "    Ouput: pix_coords(list) - the pixel coordinates of the subset area  in the following order:\n",
    "                              [left, right, upper, lower].\n",
    "    '''\n",
    "    #Calculate subset area coordinates\n",
    "    rows, cols = img.height, img.width\n",
    "    extra_rows = rows % patch_size\n",
    "    extra_cols = cols % patch_size\n",
    "    new_rows = rows - extra_rows\n",
    "    new_cols = cols - extra_cols\n",
    "    \n",
    "    #Assign coordinates\n",
    "    left = 0\n",
    "    right = new_cols\n",
    "    upper = 0\n",
    "    lower = new_rows\n",
    "    pix_coords = [left, right, upper, lower]\n",
    "    return pix_coords\n",
    "\n",
    "\n",
    "def calc_transform_subs(img, pix_coords):\n",
    "    '''\n",
    "    Calculate the affine transformation that describes the relationship between the pixel coordinate system \n",
    "    and the geospatial reference system that describe a SUBSET of a given georeferenced image.\n",
    "    \n",
    "    Inputs: pix_coords(list) - contains the bounding box coordinates of the subset area in the pixel \n",
    "                               corrdinate system of the original image with the following order:\n",
    "                               [left, right, upper, lower]\n",
    "                               \n",
    "    Output: transform(affine object)   - the affine transform which is a rasterio Affine object.\n",
    "    '''\n",
    "    #Unpack\n",
    "    left = pix_coords[0]\n",
    "    right = pix_coords[1]\n",
    "    upper = pix_coords[2]\n",
    "    lower = pix_coords[3]\n",
    "    \n",
    "    #Width and height of the subset area in pixels\n",
    "    width = right - left\n",
    "    height = lower - upper\n",
    "    \n",
    "    #Get the xy bound box coordinates in the geospatial reference system\n",
    "    ul = img.xy(left, upper)\n",
    "    ur = img.xy(right, upper)\n",
    "    ll = img.xy(left, lower)\n",
    "    lr = img.xy(right, lower)\n",
    "    \n",
    "    #Create the corresponding ground control points\n",
    "    gcps = [GCP(0, 0, *ul),\n",
    "            GCP(width,0 , *ur),\n",
    "            GCP(0, height, *ll),\n",
    "            GCP(width, height, *lr)]\n",
    "    \n",
    "    #Calculate transform\n",
    "    transform = from_gcps(gcps)\n",
    "    \n",
    "    return transform\n",
    "\n",
    "def write_raster(img_np, save_path, crs, transform, driver = 'GTiff'):\n",
    "    '''\n",
    "    Write a georeferenced raster to a geotiff file.\n",
    "    Inputs: img_np(numpy array) - raster image to write\n",
    "            save_path(string) - full path to save file\n",
    "            crs(crs rasterio object) - coordinate reference system\n",
    "            transform(affine rasterio object) - affine transformation between pixel and ground coordinates\n",
    "            driver(string)(default = GTiff) - the name of the gdal driver\n",
    "    '''\n",
    "    with rasterio.open(save_path,\n",
    "                       'w',\n",
    "                       driver = driver,\n",
    "                       height = img_np.shape[1],\n",
    "                       width = img_np.shape[2],\n",
    "                       count = img_np.shape[0],\n",
    "                       dtype = img_np.dtype,\n",
    "                       crs = crs,\n",
    "                       transform = transform\n",
    "    ) as dst:\n",
    "        dst.write(img_np)\n",
    "\n",
    "def crop(img, patch_size):\n",
    "    '''\n",
    "    Crop an image based so that it is divided perfectly by a number.\n",
    "    Inputs: img(rasterio dataset object) - the image to crop\n",
    "            patch_size(int) - the number that should perfectly divide the image\n",
    "    Output: img_np(numpy array) - cropped image\n",
    "    '''\n",
    "    rows, cols = img.height, img.width\n",
    "    extra_rows = rows % patch_size\n",
    "    extra_cols = cols % patch_size\n",
    "    new_rows = rows - extra_rows\n",
    "    new_cols = cols - extra_cols\n",
    "\n",
    "    window = rasterio.windows.Window(0, 0, new_cols, new_rows)\n",
    "    \n",
    "    bands_ls = []\n",
    "    for i in range (img.count):\n",
    "        band = img.read(i+1, window = window)\n",
    "        bands_ls.append(band)\n",
    "        img_np = np.stack(bands_ls)\n",
    "        \n",
    "    return img_np"
   ]
  },
  {
   "cell_type": "markdown",
   "id": "302abbf9",
   "metadata": {},
   "source": [
    "## Main"
   ]
  },
  {
   "cell_type": "code",
   "execution_count": null,
   "id": "dd744583",
   "metadata": {},
   "outputs": [],
   "source": [
    "i = 1\n",
    "print('Cropping...')\n",
    "for img_name in os.listdir(img_folder):\n",
    "    total = len(os.listdir(img_folder))\n",
    "    print('{}/{}:{}'.format(i, total, img_name))\n",
    "    img_path = os.path.join(img_folder, img_name)\n",
    "    img = rasterio.open(img_path)  \n",
    "    \n",
    "    cropped_img = crop(img, 128)\n",
    "    subset_coords = pixcoords_subset(img, 128)\n",
    "    transform = calc_transform_subs(img, subset_coords)\n",
    "    save_path = os.path.join(save_folder, img_name)\n",
    "    crs = img.crs\n",
    "\n",
    "    write_raster(cropped_img, save_path, crs, transform)\n",
    "    img.close()\n",
    "    i = i + 1\n",
    "\n",
    "print()\n",
    "print('Done!')"
   ]
  },
  {
   "cell_type": "code",
   "execution_count": null,
   "id": "5a28f3ab",
   "metadata": {},
   "outputs": [],
   "source": []
  }
 ],
 "metadata": {
  "kernelspec": {
   "display_name": "Python 3 (ipykernel)",
   "language": "python",
   "name": "python3"
  },
  "language_info": {
   "codemirror_mode": {
    "name": "ipython",
    "version": 3
   },
   "file_extension": ".py",
   "mimetype": "text/x-python",
   "name": "python",
   "nbconvert_exporter": "python",
   "pygments_lexer": "ipython3",
   "version": "3.10.9"
  }
 },
 "nbformat": 4,
 "nbformat_minor": 5
}
